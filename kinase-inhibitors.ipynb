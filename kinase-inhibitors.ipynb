{
 "cells": [
  {
   "cell_type": "markdown",
   "metadata": {},
   "source": [
    "# Protonation state effects in kinase inhibitor binding"
   ]
  },
  {
   "cell_type": "markdown",
   "metadata": {},
   "source": [
    "## Re-running MCCE step 4 on kinase inhibitors, June 23 2017\n",
    "\n",
    "## Recreate Monte Carlo analysis for each kinase inhibitor with self energies removed, since these are already included in Epik ligand analysis"
   ]
  },
  {
   "cell_type": "raw",
   "metadata": {},
   "source": [
    "Command line reference:\n",
    "    hestia (alias for my elizabeth@whatever login)\n",
    "    cd /home/elizabeth/kinase-inhibitors/data\n",
    "    [not in command line: go through all head3.lst files and manually zero out self-energies]\n",
    "    cp run.prm */*_inhibitor\n",
    "    zopp -c /*/*_inhibitor/step3out.pdb (replace * with each RCSB code)    \n",
    "    qsub submit.sh\n",
    "    \n",
    "Input files:\n",
    "    run.prm\n",
    "    step3_out.pdb/* (already provided)\n",
    "    submit.sh\n",
    "    \n",
    "Output files:\n",
    "    fort.38\n",
    "    mc_out\n",
    "    pK.out\n",
    "    run.log\n",
    "    \n",
    "Observations:\n",
    "\n",
    "I lost a lot of time to figuring out that the instructions I was given were faulty, and also to seeking out all of the data that was scattered all over the place. As I was executing instructions, files would mysteriously disappear from their subdirectories, so I eventually resorted to creating a backup.tar.gz with the files in their initial state, so if I needed to reconstruct missing files I could just untar it.\n",
    "\n",
    "Data analysis:\n",
    "\n",
    "I ran one test of step 4 on the 1XKK inhibitor to see if I was getting sensible results. MCCE claims that the occupancy of the protonation states is all in the dummy conformer. I highly doubt that is a sensible result."
   ]
  },
  {
   "cell_type": "markdown",
   "metadata": {},
   "source": [
    "## Cataloging available small-molecule topologies from various sources\n",
    "\n",
    "## Search publicly available data for ligand topologies that have been highly optimized"
   ]
  },
  {
   "cell_type": "raw",
   "metadata": {},
   "source": [
    "Sources:\n",
    "    ambertools topology files: /home/earosenz/miniconda2/pkgs/ambertools-17.1-0/dat\n",
    "    OneEye\n",
    "    SwissProt\n",
    "    chemicalize.com?\n",
    "    GROMOS?\n",
    "    CHARMM?\n",
    "    \n",
    "Spreadsheet can be found at Dropbox/Elizabeth-shared/useful-things/ligand-topology-survey.xlsx"
   ]
  }
 ],
 "metadata": {
  "kernelspec": {
   "display_name": "Python 2",
   "language": "python",
   "name": "python2"
  },
  "language_info": {
   "codemirror_mode": {
    "name": "ipython",
    "version": 2
   },
   "file_extension": ".py",
   "mimetype": "text/x-python",
   "name": "python",
   "nbconvert_exporter": "python",
   "pygments_lexer": "ipython2",
   "version": "2.7.13"
  }
 },
 "nbformat": 4,
 "nbformat_minor": 2
}
